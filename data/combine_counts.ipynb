{
 "cells": [
  {
   "cell_type": "code",
   "execution_count": 3,
   "metadata": {},
   "outputs": [],
   "source": [
    "import pandas as pd"
   ]
  },
  {
   "cell_type": "code",
   "execution_count": 4,
   "metadata": {},
   "outputs": [],
   "source": [
    "def get_combined_counts(files, out):\n",
    "    all = None\n",
    "    for f in files:\n",
    "        df = pd.read_csv(f, sep='\\t', skiprows=1)\n",
    "        \n",
    "        df = df.rename(columns={df.columns[-1]: f.split('/')[1].replace('_gene_counts.txt', '')})\n",
    "        df = df.set_index('Geneid')\n",
    "        \n",
    "        df.drop(df.columns[:-1], axis=1, inplace=True)\n",
    "        \n",
    "        if all is not None:\n",
    "            all = all.join(df, how='outer')\n",
    "        else:\n",
    "            all = df\n",
    "    \n",
    "    # filter out any values that when combined are less than 2\n",
    "    all = all[(all.sum(axis=1) >= 2)]\n",
    "    \n",
    "    # sort columns by name\n",
    "    all = all[sorted(all.columns)]\n",
    "    \n",
    "    all.to_csv(out, sep='\\t')\n",
    "\n",
    "FILES_ECO = [\n",
    "    'counts/eco_gluc_1_gene_counts.txt',\n",
    "    'counts/eco_gluc_2_gene_counts.txt',\n",
    "    'counts/eco_gluc_3_gene_counts.txt',\n",
    "\n",
    "    'counts/eco_glyc_1_gene_counts.txt',\n",
    "    'counts/eco_glyc_2_gene_counts.txt',\n",
    "    'counts/eco_glyc_3_gene_counts.txt',\n",
    "]\n",
    "\n",
    "FILES_SHI = {\n",
    "    'counts/shi_gluc_1_gene_counts.txt',\n",
    "    'counts/shi_gluc_2_gene_counts.txt',\n",
    "    'counts/shi_gluc_3_gene_counts.txt',\n",
    "\n",
    "    'counts/shi_glyc_1_gene_counts.txt',\n",
    "    'counts/shi_glyc_2_gene_counts.txt',\n",
    "    'counts/shi_glyc_3_gene_counts.txt',\n",
    "}\n",
    "\n",
    "\n",
    "combined = get_combined_counts(FILES_ECO, 'eco_combined.txt')\n",
    "combined = get_combined_counts(FILES_SHI, 'shi_combined.txt')"
   ]
  }
 ],
 "metadata": {
  "kernelspec": {
   "display_name": "Python 3",
   "language": "python",
   "name": "python3"
  },
  "language_info": {
   "codemirror_mode": {
    "name": "ipython",
    "version": 3
   },
   "file_extension": ".py",
   "mimetype": "text/x-python",
   "name": "python",
   "nbconvert_exporter": "python",
   "pygments_lexer": "ipython3",
   "version": "3.10.12"
  }
 },
 "nbformat": 4,
 "nbformat_minor": 2
}
